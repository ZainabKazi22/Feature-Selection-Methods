{
  "nbformat": 4,
  "nbformat_minor": 0,
  "metadata": {
    "colab": {
      "name": "Feature Selection Methods .ipynb",
      "provenance": []
    },
    "kernelspec": {
      "name": "python3",
      "display_name": "Python 3"
    }
  },
  "cells": [
    {
      "cell_type": "markdown",
      "metadata": {
        "id": "eUGM12SS81OD"
      },
      "source": [
        "Nested Cross Validation for feature Selection"
      ]
    },
    {
      "cell_type": "code",
      "metadata": {
        "id": "JSWM06Hdt6EO"
      },
      "source": [
        "\n",
        "# manual nested cross-validation for random forest on a classification dataset\n",
        "from numpy import mean\n",
        "from numpy import std\n",
        "from sklearn.datasets import make_classification\n",
        "from sklearn.model_selection import KFold\n",
        "from sklearn.model_selection import GridSearchCV\n",
        "from sklearn.ensemble import RandomForestClassifier\n",
        "from sklearn.metrics import accuracy_score\n"
      ],
      "execution_count": null,
      "outputs": []
    },
    {
      "cell_type": "code",
      "metadata": {
        "id": "ImIQVHO00BLB"
      },
      "source": [
        "# create dataset\n",
        "X, y = make_classification(n_samples=1000, n_features=20, random_state=1, n_informative=10, n_redundant=10)\n",
        "# configure the cross-validation procedure\n",
        "cv_outer = KFold(n_splits=10, shuffle=True, random_state=1)"
      ],
      "execution_count": null,
      "outputs": []
    },
    {
      "cell_type": "code",
      "metadata": {
        "id": "h0dIsuih0ICi",
        "outputId": "1e6bccdb-c612-46cf-d54d-3038454d339a",
        "colab": {
          "base_uri": "https://localhost:8080/"
        }
      },
      "source": [
        "#Random Forest calssifier is used and one of their paramter for ranking features is gini index by default, \n",
        "#the function to measure the quality of a split\n",
        "outer_results = list()\n",
        "for train_ix, test_ix in cv_outer.split(X):\n",
        "\t# split data\n",
        "\tX_train, X_test = X[train_ix, :], X[test_ix, :]\n",
        "\ty_train, y_test = y[train_ix], y[test_ix]\n",
        "\t# configure the cross-validation procedure\n",
        "\tcv_inner = KFold(n_splits=3, shuffle=True, random_state=1)\n",
        "\t# define the model\n",
        "\tmodel = RandomForestClassifier(random_state=1)\n",
        "\t# define search space\n",
        "\tspace = dict()\n",
        "\tspace['n_estimators'] = [10, 100, 500]\n",
        "\tspace['max_features'] = [2, 4, 6]\n",
        "\t# define search\n",
        "\tsearch = GridSearchCV(model, space, scoring='accuracy', cv=cv_inner, refit=True)\n",
        "\t# execute search\n",
        "\tresult = search.fit(X_train, y_train)\n",
        "\t# get the best performing model fit on the whole training set\n",
        "\tbest_model = result.best_estimator_\n",
        "\t# evaluate model on the hold out dataset\n",
        "\tyhat = best_model.predict(X_test)\n",
        "\t# evaluate the model\n",
        "\tacc = accuracy_score(y_test, yhat)\n",
        "\t# store the result\n",
        "\touter_results.append(acc)\n",
        "\t# report progress\n",
        "\tprint('>acc=%.3f, est=%.3f, cfg=%s' % (acc, result.best_score_, result.best_params_))\n",
        "# summarize the estimated performance of the model\n",
        "print('Accuracy: %.3f (%.3f)' % (mean(outer_results), std(outer_results)))"
      ],
      "execution_count": null,
      "outputs": [
        {
          "output_type": "stream",
          "text": [
            ">acc=0.900, est=0.932, cfg={'max_features': 4, 'n_estimators': 100}\n",
            ">acc=0.940, est=0.924, cfg={'max_features': 4, 'n_estimators': 500}\n",
            ">acc=0.930, est=0.929, cfg={'max_features': 4, 'n_estimators': 500}\n",
            ">acc=0.930, est=0.927, cfg={'max_features': 6, 'n_estimators': 100}\n",
            ">acc=0.920, est=0.927, cfg={'max_features': 4, 'n_estimators': 100}\n",
            ">acc=0.950, est=0.927, cfg={'max_features': 4, 'n_estimators': 500}\n",
            ">acc=0.910, est=0.918, cfg={'max_features': 2, 'n_estimators': 100}\n",
            ">acc=0.930, est=0.924, cfg={'max_features': 6, 'n_estimators': 500}\n",
            ">acc=0.960, est=0.926, cfg={'max_features': 2, 'n_estimators': 500}\n",
            ">acc=0.900, est=0.937, cfg={'max_features': 4, 'n_estimators': 500}\n",
            "Accuracy: 0.927 (0.019)\n"
          ],
          "name": "stdout"
        }
      ]
    },
    {
      "cell_type": "markdown",
      "metadata": {
        "id": "E-4gQ6Pl0TIx"
      },
      "source": [
        "Implementation of SFS (wrapper method)"
      ]
    },
    {
      "cell_type": "code",
      "metadata": {
        "id": "WXkMtyYDxr_Q",
        "outputId": "b80f5946-3d82-408f-ae14-21d26b8348b4",
        "colab": {
          "base_uri": "https://localhost:8080/"
        }
      },
      "source": [
        "!pip install mlxtend  "
      ],
      "execution_count": null,
      "outputs": [
        {
          "output_type": "stream",
          "text": [
            "Requirement already satisfied: mlxtend in /usr/local/lib/python3.6/dist-packages (0.14.0)\n",
            "Requirement already satisfied: scipy>=0.17 in /usr/local/lib/python3.6/dist-packages (from mlxtend) (1.4.1)\n",
            "Requirement already satisfied: numpy>=1.10.4 in /usr/local/lib/python3.6/dist-packages (from mlxtend) (1.18.5)\n",
            "Requirement already satisfied: matplotlib>=1.5.1 in /usr/local/lib/python3.6/dist-packages (from mlxtend) (3.2.2)\n",
            "Requirement already satisfied: scikit-learn>=0.18 in /usr/local/lib/python3.6/dist-packages (from mlxtend) (0.22.2.post1)\n",
            "Requirement already satisfied: setuptools in /usr/local/lib/python3.6/dist-packages (from mlxtend) (50.3.2)\n",
            "Requirement already satisfied: pandas>=0.17.1 in /usr/local/lib/python3.6/dist-packages (from mlxtend) (1.1.3)\n",
            "Requirement already satisfied: pyparsing!=2.0.4,!=2.1.2,!=2.1.6,>=2.0.1 in /usr/local/lib/python3.6/dist-packages (from matplotlib>=1.5.1->mlxtend) (2.4.7)\n",
            "Requirement already satisfied: kiwisolver>=1.0.1 in /usr/local/lib/python3.6/dist-packages (from matplotlib>=1.5.1->mlxtend) (1.2.0)\n",
            "Requirement already satisfied: python-dateutil>=2.1 in /usr/local/lib/python3.6/dist-packages (from matplotlib>=1.5.1->mlxtend) (2.8.1)\n",
            "Requirement already satisfied: cycler>=0.10 in /usr/local/lib/python3.6/dist-packages (from matplotlib>=1.5.1->mlxtend) (0.10.0)\n",
            "Requirement already satisfied: joblib>=0.11 in /usr/local/lib/python3.6/dist-packages (from scikit-learn>=0.18->mlxtend) (0.17.0)\n",
            "Requirement already satisfied: pytz>=2017.2 in /usr/local/lib/python3.6/dist-packages (from pandas>=0.17.1->mlxtend) (2018.9)\n",
            "Requirement already satisfied: six>=1.5 in /usr/local/lib/python3.6/dist-packages (from python-dateutil>=2.1->matplotlib>=1.5.1->mlxtend) (1.15.0)\n"
          ],
          "name": "stdout"
        }
      ]
    },
    {
      "cell_type": "code",
      "metadata": {
        "id": "n5o1Y3hGxuw5"
      },
      "source": [
        "import mlxtend"
      ],
      "execution_count": null,
      "outputs": []
    },
    {
      "cell_type": "code",
      "metadata": {
        "id": "BnIi059ixzcI"
      },
      "source": [
        "from mlxtend.feature_selection import SequentialFeatureSelector as SFS"
      ],
      "execution_count": null,
      "outputs": []
    },
    {
      "cell_type": "code",
      "metadata": {
        "id": "GMHACqK6ym1t",
        "outputId": "09e9ba78-6e93-45f8-d0b7-5291f7eb55d5",
        "colab": {
          "base_uri": "https://localhost:8080/",
          "height": 195
        }
      },
      "source": [
        "from sklearn.datasets import load_iris\n",
        "import pandas as pd\n",
        "# Create input and output features\n",
        "feature_names = load_iris().feature_names\n",
        "X_data = pd.DataFrame(load_iris().data, columns=feature_names)\n",
        "y_data = load_iris().target"
      ],
      "execution_count": null,
      "outputs": [
        {
          "output_type": "execute_result",
          "data": {
            "text/html": [
              "<div>\n",
              "<style scoped>\n",
              "    .dataframe tbody tr th:only-of-type {\n",
              "        vertical-align: middle;\n",
              "    }\n",
              "\n",
              "    .dataframe tbody tr th {\n",
              "        vertical-align: top;\n",
              "    }\n",
              "\n",
              "    .dataframe thead th {\n",
              "        text-align: right;\n",
              "    }\n",
              "</style>\n",
              "<table border=\"1\" class=\"dataframe\">\n",
              "  <thead>\n",
              "    <tr style=\"text-align: right;\">\n",
              "      <th></th>\n",
              "      <th>sepal length (cm)</th>\n",
              "      <th>sepal width (cm)</th>\n",
              "      <th>petal length (cm)</th>\n",
              "      <th>petal width (cm)</th>\n",
              "    </tr>\n",
              "  </thead>\n",
              "  <tbody>\n",
              "    <tr>\n",
              "      <th>0</th>\n",
              "      <td>5.1</td>\n",
              "      <td>3.5</td>\n",
              "      <td>1.4</td>\n",
              "      <td>0.2</td>\n",
              "    </tr>\n",
              "    <tr>\n",
              "      <th>1</th>\n",
              "      <td>4.9</td>\n",
              "      <td>3.0</td>\n",
              "      <td>1.4</td>\n",
              "      <td>0.2</td>\n",
              "    </tr>\n",
              "    <tr>\n",
              "      <th>2</th>\n",
              "      <td>4.7</td>\n",
              "      <td>3.2</td>\n",
              "      <td>1.3</td>\n",
              "      <td>0.2</td>\n",
              "    </tr>\n",
              "    <tr>\n",
              "      <th>3</th>\n",
              "      <td>4.6</td>\n",
              "      <td>3.1</td>\n",
              "      <td>1.5</td>\n",
              "      <td>0.2</td>\n",
              "    </tr>\n",
              "    <tr>\n",
              "      <th>4</th>\n",
              "      <td>5.0</td>\n",
              "      <td>3.6</td>\n",
              "      <td>1.4</td>\n",
              "      <td>0.2</td>\n",
              "    </tr>\n",
              "  </tbody>\n",
              "</table>\n",
              "</div>"
            ],
            "text/plain": [
              "   sepal length (cm)  sepal width (cm)  petal length (cm)  petal width (cm)\n",
              "0                5.1               3.5                1.4               0.2\n",
              "1                4.9               3.0                1.4               0.2\n",
              "2                4.7               3.2                1.3               0.2\n",
              "3                4.6               3.1                1.5               0.2\n",
              "4                5.0               3.6                1.4               0.2"
            ]
          },
          "metadata": {
            "tags": []
          },
          "execution_count": 11
        }
      ]
    },
    {
      "cell_type": "code",
      "metadata": {
        "id": "sV37wPefyvv5",
        "outputId": "dce98e86-6f03-40f3-8ae3-d2062b5188a6",
        "colab": {
          "base_uri": "https://localhost:8080/"
        }
      },
      "source": [
        "\n",
        "# Import logistic regression from Scikit-learn\n",
        "from sklearn.linear_model import LogisticRegression\n",
        "# Create a logistic regression classifier\n",
        "lr = LogisticRegression()\n",
        "\n",
        "# Create an SFS object\n",
        "sfs = SFS(estimator=lr,       # Use logistic regression as our classifier\n",
        "          k_features=(1, 4),  # Consider any feature combination between 1 and 4\n",
        "          forward=True,       # Set forward to True when we want to perform SFS\n",
        "          scoring='accuracy', # The metric to use to evaluate the classifier is accuracy \n",
        "          cv=5)               # The number of cross-validations to perform is 5\n",
        "\n",
        "# Train SFS with our dataset\n",
        "sfs = sfs.fit(X_data, y_data)\n",
        "\n",
        "# Print the results\n",
        "print('Best accuracy score: %.2f' % sfs.k_score_)   # k_score_ shows the best score \n",
        "print('Best subset (indices):', sfs.k_feature_idx_) # k_feature_idx_ shows the index of features \n",
        "                                                    # that yield the best score\n",
        "print('Best subset (corresponding names):', sfs.k_feature_names_) # k_feature_names_ shows the feature names \n",
        "                                                                  # that yield the best score"
      ],
      "execution_count": null,
      "outputs": [
        {
          "output_type": "stream",
          "text": [
            "Best accuracy score: 0.97\n",
            "Best subset (indices): (0, 1, 2, 3)\n",
            "Best subset (corresponding names): ('sepal length (cm)', 'sepal width (cm)', 'petal length (cm)', 'petal width (cm)')\n"
          ],
          "name": "stdout"
        }
      ]
    }
  ]
}